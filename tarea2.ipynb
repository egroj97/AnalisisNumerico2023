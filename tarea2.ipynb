{
 "cells": [
  {
   "cell_type": "code",
   "execution_count": 2,
   "metadata": {},
   "outputs": [
    {
     "name": "stdout",
     "output_type": "stream",
     "text": [
      "Requirement already satisfied: sympy in /home/egroj97/.virtualenvs/analisis-numerico/lib/python3.8/site-packages (1.11.1)\n",
      "Requirement already satisfied: numpy in /home/egroj97/.virtualenvs/analisis-numerico/lib/python3.8/site-packages (1.24.1)\n",
      "Requirement already satisfied: matplotlib in /home/egroj97/.virtualenvs/analisis-numerico/lib/python3.8/site-packages (3.6.3)\n",
      "Requirement already satisfied: mpmath>=0.19 in /home/egroj97/.virtualenvs/analisis-numerico/lib/python3.8/site-packages (from sympy) (1.2.1)\n",
      "Requirement already satisfied: pyparsing>=2.2.1 in /home/egroj97/.virtualenvs/analisis-numerico/lib/python3.8/site-packages (from matplotlib) (3.0.9)\n",
      "Requirement already satisfied: cycler>=0.10 in /home/egroj97/.virtualenvs/analisis-numerico/lib/python3.8/site-packages (from matplotlib) (0.11.0)\n",
      "Requirement already satisfied: contourpy>=1.0.1 in /home/egroj97/.virtualenvs/analisis-numerico/lib/python3.8/site-packages (from matplotlib) (1.0.7)\n",
      "Requirement already satisfied: python-dateutil>=2.7 in /home/egroj97/.virtualenvs/analisis-numerico/lib/python3.8/site-packages (from matplotlib) (2.8.2)\n",
      "Requirement already satisfied: fonttools>=4.22.0 in /home/egroj97/.virtualenvs/analisis-numerico/lib/python3.8/site-packages (from matplotlib) (4.38.0)\n",
      "Requirement already satisfied: kiwisolver>=1.0.1 in /home/egroj97/.virtualenvs/analisis-numerico/lib/python3.8/site-packages (from matplotlib) (1.4.4)\n",
      "Requirement already satisfied: pillow>=6.2.0 in /home/egroj97/.virtualenvs/analisis-numerico/lib/python3.8/site-packages (from matplotlib) (9.4.0)\n",
      "Requirement already satisfied: packaging>=20.0 in /home/egroj97/.virtualenvs/analisis-numerico/lib/python3.8/site-packages (from matplotlib) (23.0)\n",
      "Requirement already satisfied: six>=1.5 in /home/egroj97/.virtualenvs/analisis-numerico/lib/python3.8/site-packages (from python-dateutil>=2.7->matplotlib) (1.16.0)\n",
      "\n",
      "\u001b[1m[\u001b[0m\u001b[34;49mnotice\u001b[0m\u001b[1;39;49m]\u001b[0m\u001b[39;49m A new release of pip available: \u001b[0m\u001b[31;49m22.3.1\u001b[0m\u001b[39;49m -> \u001b[0m\u001b[32;49m23.0\u001b[0m\n",
      "\u001b[1m[\u001b[0m\u001b[34;49mnotice\u001b[0m\u001b[1;39;49m]\u001b[0m\u001b[39;49m To update, run: \u001b[0m\u001b[32;49mpip install --upgrade pip\u001b[0m\n",
      "Note: you may need to restart the kernel to use updated packages.\n"
     ]
    }
   ],
   "source": [
    "%pip install sympy numpy matplotlib\n",
    "# Importamos `sympy` para que nos ayude a realizar todas las operaciones \n",
    "# algebraicas\n",
    "import sympy, numpy, matplotlib"
   ]
  },
  {
   "attachments": {},
   "cell_type": "markdown",
   "metadata": {},
   "source": [
    "2.3) a) Escriba La formula de interpolaciôn de Lagrange ajustada a los puntos \\\n",
    "$i = 2, 3,$ y $4$ dados en La siguiente tabla:\n",
    "\n",
    "\\begin{vmatrix*}\n",
    "    i & x_i  & f(x_i) \\\\\n",
    "    \\hdashline\n",
    "    1 & 0    & 0.9126 \\\\\n",
    "    2 & 0.25 & 0.8109 \\\\\n",
    "    3 & 0.5  & 0.6931 \\\\\n",
    "    4 & 0.75 & 0.5596 \\\\\n",
    "    5 & 1.0  & 0.4055\n",
    "\\end{vmatrix*}\n",
    "\n",
    "b) Si La tercera derivada de La funciOn en $i = 3$ es $f\" = - 0.26$, estime el \\\n",
    "error de La interpolaciOn de Lagrange obtenido en el inciso a) en $x = 0.6$.\n",
    "\n",
    "\n"
   ]
  },
  {
   "attachments": {},
   "cell_type": "markdown",
   "metadata": {},
   "source": [
    "a) Escriba La formula de interpolaciôn de Lagrange ajustada a los puntos \\\n",
    "$i = 2, 3,$ y $4$ dados en la tabla."
   ]
  },
  {
   "cell_type": "code",
   "execution_count": 3,
   "metadata": {},
   "outputs": [
    {
     "data": {
      "text/latex": [
       "$\\displaystyle g(x) = \\frac{0.5596 \\left(- 0.25 + x\\right) \\left(- 0.5 + x\\right)}{\\left(- 0.25 + 0.75\\right) \\left(- 0.5 + 0.75\\right)} + \\frac{0.6931 \\left(- 0.25 + x\\right) \\left(- 0.75 + x\\right)}{\\left(- 0.25 + 0.5\\right) \\left(0.5 - 0.75\\right)} + \\frac{0.8109 \\left(- 0.5 + x\\right) \\left(- 0.75 + x\\right)}{\\left(0.25 - 0.5\\right) \\left(0.25 - 0.75\\right)}$"
      ],
      "text/plain": [
       "Eq(g(x), 0.5596*(-0.25 + x)*(-0.5 + x)/((-0.25 + 0.75)*(-0.5 + 0.75)) + 0.6931*(-0.25 + x)*(-0.75 + x)/((-0.25 + 0.5)*(0.5 - 0.75)) + 0.8109*(-0.5 + x)*(-0.75 + x)/((0.25 - 0.5)*(0.25 - 0.75)))"
      ]
     },
     "execution_count": 3,
     "metadata": {},
     "output_type": "execute_result"
    }
   ],
   "source": [
    "x, x2, x3, x4, f2, f3, f4 = sympy.symbols('x 0.25 0.5 0.75 0.8109 0.6931 0.5596')\n",
    "\n",
    "f = (((x - x3) * (x - x4))/((x2 - x3) * (x2 - x4)) * (f2)) + \\\n",
    "    (((x - x2) * (x - x4))/((x3 - x2) * (x3 - x4)) * (f3)) + \\\n",
    "        (((x - x2) * (x - x3))/((x4 - x2) * (x4 - x3)) * (f4))\n",
    "sympy.Eq(sympy.symbols('g(x)'), f)"
   ]
  },
  {
   "attachments": {},
   "cell_type": "markdown",
   "metadata": {},
   "source": [
    "Dejando que sympy resuelva la ecuación, nos queda:"
   ]
  },
  {
   "cell_type": "code",
   "execution_count": 4,
   "metadata": {},
   "outputs": [
    {
     "data": {
      "text/latex": [
       "$\\displaystyle g(x) = 6.4872 \\left(x - 0.75\\right) \\left(x - 0.5\\right) - 11.0896 \\left(x - 0.75\\right) \\left(x - 0.25\\right) + 4.4768 \\left(x - 0.5\\right) \\left(x - 0.25\\right)$"
      ],
      "text/plain": [
       "Eq(g(x), 6.4872*(x - 0.75)*(x - 0.5) - 11.0896*(x - 0.75)*(x - 0.25) + 4.4768*(x - 0.5)*(x - 0.25))"
      ]
     },
     "execution_count": 4,
     "metadata": {},
     "output_type": "execute_result"
    }
   ],
   "source": [
    "x = sympy.symbols('x')\n",
    "\n",
    "f = ((x - 0.5) * (x - 0.75))/((0.25 - 0.5) * (0.25 - 0.75)) * (0.8109) + \\\n",
    "    ((x - 0.25) * (x - 0.75))/((0.5 - 0.25) * (0.5 - 0.75)) * (0.6931) + \\\n",
    "        ((x - 0.25) * (x - 0.5))/((0.75 - 0.25) * (0.75 - 0.5)) * (0.5596)\n",
    "sympy.Eq(sympy.symbols('g(x)'), f)"
   ]
  },
  {
   "attachments": {},
   "cell_type": "markdown",
   "metadata": {},
   "source": [
    "b) Si La tercera derivada de La función en $i = 3$ es $f''' = - 0.26$, estime el \\\n",
    "error de la interpolación de Lagrange obtenido en el inciso a) en $x = 0.6$.\n"
   ]
  },
  {
   "cell_type": "code",
   "execution_count": 5,
   "metadata": {},
   "outputs": [
    {
     "data": {
      "text/latex": [
       "$\\displaystyle e(x) = \\frac{f'''(3) \\left(- 0.25 + x\\right) \\left(- 0.5 + x\\right) \\left(- 0.75 + x\\right)}{3!}$"
      ],
      "text/plain": [
       "Eq(e(x), f'''(3)*(-0.25 + x)*(-0.5 + x)*(-0.75 + x)/3!)"
      ]
     },
     "execution_count": 5,
     "metadata": {},
     "output_type": "execute_result"
    }
   ],
   "source": [
    "e = ((x - x2) * (x - x3) * (x - x4)) / (sympy.symbols('3!')) * (sympy.symbols(\"f'''(3)\"))\n",
    "sympy.Eq(sympy.symbols('e(x)'), e)"
   ]
  },
  {
   "cell_type": "code",
   "execution_count": 6,
   "metadata": {},
   "outputs": [
    {
     "data": {
      "text/latex": [
       "$\\displaystyle e(x) = - 0.0433333333333333 \\left(x - 0.75\\right) \\left(x - 0.5\\right) \\left(x - 0.25\\right)$"
      ],
      "text/plain": [
       "Eq(e(x), -0.0433333333333333*(x - 0.75)*(x - 0.5)*(x - 0.25))"
      ]
     },
     "execution_count": 6,
     "metadata": {},
     "output_type": "execute_result"
    }
   ],
   "source": [
    "e = ((x - 0.25) * (x - 0.5) * (x - 0.75)) / (sympy.factorial(3)) * (-0.26)\n",
    "sympy.Eq(sympy.symbols('e(x)'), e)"
   ]
  },
  {
   "attachments": {},
   "cell_type": "markdown",
   "metadata": {},
   "source": [
    "Reemplazando $x = 0.6$ resulta en:"
   ]
  },
  {
   "cell_type": "code",
   "execution_count": 7,
   "metadata": {},
   "outputs": [
    {
     "data": {
      "text/latex": [
       "$\\displaystyle e(x) = 0.0002275$"
      ],
      "text/plain": [
       "Eq(e(x), 0.0002275)"
      ]
     },
     "execution_count": 7,
     "metadata": {},
     "output_type": "execute_result"
    }
   ],
   "source": [
    "sympy.Eq(sympy.symbols('e(x)'), e).subs(x, 0.6)"
   ]
  },
  {
   "attachments": {},
   "cell_type": "markdown",
   "metadata": {},
   "source": [
    "Dejando que sympy resuelva la ecuación"
   ]
  },
  {
   "attachments": {},
   "cell_type": "markdown",
   "metadata": {},
   "source": [
    "2.11) Si se ajusta un polinomio de interpolaciOn de Lagrange a cuatro datos \\\n",
    "en x = 1, 2, 3 y 4, aparecen los siguientes polinomios ciibicos en Ia formula \\\n",
    "de interpolación:\n",
    "\n",
    "a) $\\frac{(x-2)(x-3)(x-4)}{(1-2)(1-3)(1-4)}$\n",
    "\n",
    "b) $\\frac{(x-1)(x-3)(x-4)}{(2-1)(2-3)(2-4)}$\n",
    "\n",
    "c) $\\frac{(x-1)(x-2)(x-4)}{(3-1)(3-2)(3-4)}$\n",
    "\n",
    "d) $\\frac{(x-1)(x-2)(x-3)}{(4-1)(4-2)(4-3)}$"
   ]
  },
  {
   "cell_type": "code",
   "execution_count": 8,
   "metadata": {},
   "outputs": [
    {
     "data": {
      "image/png": "[encoded data removed]",
      "text/plain": [
       "<Figure size 640x480 with 1 Axes>"
      ]
     },
     "metadata": {},
     "output_type": "display_data"
    },
    {
     "data": {
      "text/plain": [
       "<sympy.plotting.plot.Plot at 0x7fde1937fca0>"
      ]
     },
     "execution_count": 8,
     "metadata": {},
     "output_type": "execute_result"
    }
   ],
   "source": [
    "x = sympy.symbols('x')\n",
    "f1 = ((x - 2) * (x - 3) * (x - 4))/((1 - 2) * (1 - 3) * (1 - 4))\n",
    "f2 = ((x - 1) * (x - 3) * (x - 4))/((2 - 3) * (2 - 1) * (2 - 4))\n",
    "f3 = ((x - 1) * (x - 2) * (x - 4))/((3 - 1) * (3 - 2) * (3 - 4))\n",
    "f4 = ((x - 1) * (x - 2) * (x - 3))/((4 - 1) * (4 - 2) * (4 - 3))\n",
    "\n",
    "sympy.plot(f1, f2, f3, f4, (x, 0.5, 4.5))"
   ]
  },
  {
   "attachments": {},
   "cell_type": "markdown",
   "metadata": {},
   "source": [
    "2.16) Deduzca el polinomio de interpolaciOn de Newton hacia adelante que pasa \\\n",
    "por los puntos $i = 2, 3, 4$ dados en Ia siguiente tabla:\n",
    "\n",
    "\\begin{vmatrix*}\n",
    "    i & x_i  & f(x_i) \\\\\n",
    "    \\hdashline\n",
    "    1 & 0    & 0.9126 \\\\\n",
    "    2 & 0.25 & 0.8109 \\\\\n",
    "    3 & 0.5  & 0.6931 \\\\\n",
    "    4 & 0.75 & 0.5596 \\\\\n",
    "    5 & 1.0  & 0.4055\n",
    "\\end{vmatrix*}\n"
   ]
  },
  {
   "attachments": {},
   "cell_type": "markdown",
   "metadata": {},
   "source": [
    "Creamos la fila en la tabla correspondiente de diferencias hacia delante para los $i$ dados:"
   ]
  },
  {
   "cell_type": "code",
   "execution_count": 24,
   "metadata": {},
   "outputs": [
    {
     "data": {
      "text/latex": [
       "$\\displaystyle y = - \\frac{-0.01570000000000016 \\left(-1 + \\frac{x - x_{2}}{h}\\right) \\left(x - x_{2}\\right)^{2}}{2 h^{2}} - \\frac{-0.1177999999999999 \\left(x - x_{2}\\right)}{h} + 0.8109$"
      ],
      "text/plain": [
       "Eq(y, --0.01570000000000016*(-1 + (x - x2)/h)*(x - x2)**2/(2*h**2) - -0.1177999999999999*(x - x2)/h + 0.8109)"
      ]
     },
     "execution_count": 24,
     "metadata": {},
     "output_type": "execute_result"
    }
   ],
   "source": [
    "f2, f3, f4 = 0.8109, 0.6931, 0.5596\n",
    "df2 = f3 - f2\n",
    "df3 = f4 - f3\n",
    "ddf2 = (f4 - f3) - (f3 - f2)\n",
    "\n",
    "s, x, h, x2 = sympy.symbols('s x h x2')\n",
    "sf2 = sympy.symbols(str(f2))\n",
    "sdf2 = sympy.symbols(str(df2))\n",
    "sddf2 = sympy.symbols(str(ddf2))\n",
    "s = (x - x2) / h\n",
    "\n",
    "y = sf2 - sdf2*s - (sddf2*s)/sympy.factorial(2)*s*(s-1)\n",
    "sympy.Eq(sympy.symbols('y'), y)"
   ]
  },
  {
   "attachments": {},
   "cell_type": "markdown",
   "metadata": {},
   "source": [
    "Dejamos que sympy resuelva la ecuación"
   ]
  },
  {
   "cell_type": "code",
   "execution_count": 25,
   "metadata": {},
   "outputs": [
    {
     "data": {
      "text/latex": [
       "$\\displaystyle y = 0.8109 + \\frac{0.1178 \\left(x - x_{2}\\right)}{h} + \\frac{0.00785000000000008 \\left(-1 + \\frac{x - x_{2}}{h}\\right) \\left(x - x_{2}\\right)^{2}}{h^{2}}$"
      ],
      "text/plain": [
       "Eq(y, 0.8109 + 0.1178*(x - x2)/h + 0.00785000000000008*(-1 + (x - x2)/h)*(x - x2)**2/h**2)"
      ]
     },
     "execution_count": 25,
     "metadata": {},
     "output_type": "execute_result"
    }
   ],
   "source": [
    "y = f2 - df2*s - (ddf2*s)/sympy.factorial(2)*s*(s-1)\n",
    "sympy.Eq(sympy.symbols('y'), y)"
   ]
  },
  {
   "attachments": {},
   "cell_type": "markdown",
   "metadata": {},
   "source": [
    "Reemplazamos el valor de $x2$ y $h = 0.25$, obteniendo:"
   ]
  },
  {
   "cell_type": "code",
   "execution_count": 32,
   "metadata": {},
   "outputs": [
    {
     "data": {
      "text/latex": [
       "$\\displaystyle y = 0.4712 x + 0.125600000000001 \\left(x - 0.25\\right)^{2} \\cdot \\left(4.0 x - 2.0\\right) + 0.6931$"
      ],
      "text/plain": [
       "Eq(y, 0.4712*x + 0.125600000000001*(x - 0.25)**2*(4.0*x - 2.0) + 0.6931)"
      ]
     },
     "execution_count": 32,
     "metadata": {},
     "output_type": "execute_result"
    }
   ],
   "source": [
    "y = f2 - df2*s - (ddf2*s)/sympy.factorial(2)*s*(s-1)\n",
    "sympy.Eq(sympy.symbols('y'), y.subs(x2, 0.25).subs(h, 0.25))"
   ]
  },
  {
   "attachments": {},
   "cell_type": "markdown",
   "metadata": {},
   "source": [
    "2.18) Haga la tabla de diferencias hacia adelante a partir de la siguiente \\\n",
    "tabla de valores:\n",
    "\n",
    "\\begin{vmatrix*}\n",
    "    i & x_i  & f(x_i) \\\\\n",
    "    \\hdashline\n",
    "    1 & 0.5 & 1.143 \\\\\n",
    "    2 & 1.0 & 1.000 \\\\\n",
    "    3 & 1.5 &  0.828 \\\\\n",
    "    4 & 2.0 &  0.667 \\\\\n",
    "    5 & 2.5 &  0.533 \\\\\n",
    "    6 & 3.0 &  0.428 \\\\\n",
    "\\end{vmatrix*}\n",
    "\n",
    "Por medio de las formulas de Newton hacia adelante, escriba los polinomios de interpolaciOn\n",
    "ajustados a:\n",
    "\n",
    "a) $i = 1, 2, 3$ \\\n",
    "b) $i = 4, 5, 6$ \\\n",
    "c) $i = 2, 3, 4, 5$\n",
    "\n",
    "\n"
   ]
  }
 ],
 "metadata": {
  "kernelspec": {
   "display_name": "analisis-numerico",
   "language": "python",
   "name": "python3"
  },
  "language_info": {
   "codemirror_mode": {
    "name": "ipython",
    "version": 3
   },
   "file_extension": ".py",
   "mimetype": "text/x-python",
   "name": "python",
   "nbconvert_exporter": "python",
   "pygments_lexer": "ipython3",
   "version": "3.8.10"
  },
  "orig_nbformat": 4,
  "vscode": {
   "interpreter": {
    "hash": "ea53a699818581d32a1b41b9a0dc94b54611238278634da366efa3d7de75a310"
   }
  }
 },
 "nbformat": 4,
 "nbformat_minor": 2
}
