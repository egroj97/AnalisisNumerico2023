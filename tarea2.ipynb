{
 "cells": [
  {
   "cell_type": "code",
   "execution_count": 2,
   "metadata": {},
   "outputs": [
    {
     "name": "stdout",
     "output_type": "stream",
     "text": [
      "Collecting sympy\n",
      "  Downloading sympy-1.11.1-py3-none-any.whl (6.5 MB)\n",
      "\u001b[2K     \u001b[90m━━━━━━━━━━━━━━━━━━━━━━━━━━━━━━━━━━━━━━━━\u001b[0m \u001b[32m6.5/6.5 MB\u001b[0m \u001b[31m9.5 MB/s\u001b[0m eta \u001b[36m0:00:00\u001b[0m:00:01\u001b[0m0:01\u001b[0m\n",
      "\u001b[?25hCollecting numpy\n",
      "  Downloading numpy-1.24.1-cp38-cp38-manylinux_2_17_x86_64.manylinux2014_x86_64.whl (17.3 MB)\n",
      "\u001b[2K     \u001b[90m━━━━━━━━━━━━━━━━━━━━━━━━━━━━━━━━━━━━━━━━\u001b[0m \u001b[32m17.3/17.3 MB\u001b[0m \u001b[31m12.8 MB/s\u001b[0m eta \u001b[36m0:00:00\u001b[0m00:01\u001b[0m00:01\u001b[0m\n",
      "\u001b[?25hCollecting matplotlib\n",
      "  Downloading matplotlib-3.6.3-cp38-cp38-manylinux_2_12_x86_64.manylinux2010_x86_64.whl (9.4 MB)\n",
      "\u001b[2K     \u001b[90m━━━━━━━━━━━━━━━━━━━━━━━━━━━━━━━━━━━━━━━━\u001b[0m \u001b[32m9.4/9.4 MB\u001b[0m \u001b[31m12.0 MB/s\u001b[0m eta \u001b[36m0:00:00\u001b[0m00:01\u001b[0m00:01\u001b[0m\n",
      "\u001b[?25hCollecting mpmath>=0.19\n",
      "  Downloading mpmath-1.2.1-py3-none-any.whl (532 kB)\n",
      "\u001b[2K     \u001b[90m━━━━━━━━━━━━━━━━━━━━━━━━━━━━━━━━━━━━━━━\u001b[0m \u001b[32m532.6/532.6 kB\u001b[0m \u001b[31m9.2 MB/s\u001b[0m eta \u001b[36m0:00:00\u001b[0ma \u001b[36m0:00:01\u001b[0m\n",
      "\u001b[?25hCollecting pyparsing>=2.2.1\n",
      "  Downloading pyparsing-3.0.9-py3-none-any.whl (98 kB)\n",
      "\u001b[2K     \u001b[90m━━━━━━━━━━━━━━━━━━━━━━━━━━━━━━━━━━━━━━━━\u001b[0m \u001b[32m98.3/98.3 kB\u001b[0m \u001b[31m8.9 MB/s\u001b[0m eta \u001b[36m0:00:00\u001b[0m\n",
      "\u001b[?25hRequirement already satisfied: python-dateutil>=2.7 in /home/egroj97/.virtualenvs/analisis-numerico/lib/python3.8/site-packages (from matplotlib) (2.8.2)\n",
      "Requirement already satisfied: packaging>=20.0 in /home/egroj97/.virtualenvs/analisis-numerico/lib/python3.8/site-packages (from matplotlib) (23.0)\n",
      "Collecting fonttools>=4.22.0\n",
      "  Downloading fonttools-4.38.0-py3-none-any.whl (965 kB)\n",
      "\u001b[2K     \u001b[90m━━━━━━━━━━━━━━━━━━━━━━━━━━━━━━━━━━━━━━\u001b[0m \u001b[32m965.4/965.4 kB\u001b[0m \u001b[31m10.0 MB/s\u001b[0m eta \u001b[36m0:00:00\u001b[0ma \u001b[36m0:00:01\u001b[0m\n",
      "\u001b[?25hCollecting pillow>=6.2.0\n",
      "  Downloading Pillow-9.4.0-cp38-cp38-manylinux_2_28_x86_64.whl (3.4 MB)\n",
      "\u001b[2K     \u001b[90m━━━━━━━━━━━━━━━━━━━━━━━━━━━━━━━━━━━━━━━━\u001b[0m \u001b[32m3.4/3.4 MB\u001b[0m \u001b[31m11.3 MB/s\u001b[0m eta \u001b[36m0:00:00\u001b[0m00:01\u001b[0m00:01\u001b[0m\n",
      "\u001b[?25hCollecting cycler>=0.10\n",
      "  Downloading cycler-0.11.0-py3-none-any.whl (6.4 kB)\n",
      "Collecting kiwisolver>=1.0.1\n",
      "  Downloading kiwisolver-1.4.4-cp38-cp38-manylinux_2_5_x86_64.manylinux1_x86_64.whl (1.2 MB)\n",
      "\u001b[2K     \u001b[90m━━━━━━━━━━━━━━━━━━━━━━━━━━━━━━━━━━━━━━━━\u001b[0m \u001b[32m1.2/1.2 MB\u001b[0m \u001b[31m12.6 MB/s\u001b[0m eta \u001b[36m0:00:00\u001b[0ma \u001b[36m0:00:01\u001b[0m\n",
      "\u001b[?25hCollecting contourpy>=1.0.1\n",
      "  Downloading contourpy-1.0.7-cp38-cp38-manylinux_2_17_x86_64.manylinux2014_x86_64.whl (300 kB)\n",
      "\u001b[2K     \u001b[90m━━━━━━━━━━━━━━━━━━━━━━━━━━━━━━━━━━━━━━━\u001b[0m \u001b[32m300.0/300.0 kB\u001b[0m \u001b[31m8.2 MB/s\u001b[0m eta \u001b[36m0:00:00\u001b[0m00:01\u001b[0m\n",
      "\u001b[?25hRequirement already satisfied: six>=1.5 in /home/egroj97/.virtualenvs/analisis-numerico/lib/python3.8/site-packages (from python-dateutil>=2.7->matplotlib) (1.16.0)\n",
      "Installing collected packages: mpmath, sympy, pyparsing, pillow, numpy, kiwisolver, fonttools, cycler, contourpy, matplotlib\n",
      "Successfully installed contourpy-1.0.7 cycler-0.11.0 fonttools-4.38.0 kiwisolver-1.4.4 matplotlib-3.6.3 mpmath-1.2.1 numpy-1.24.1 pillow-9.4.0 pyparsing-3.0.9 sympy-1.11.1\n",
      "\n",
      "\u001b[1m[\u001b[0m\u001b[34;49mnotice\u001b[0m\u001b[1;39;49m]\u001b[0m\u001b[39;49m A new release of pip available: \u001b[0m\u001b[31;49m22.3.1\u001b[0m\u001b[39;49m -> \u001b[0m\u001b[32;49m23.0\u001b[0m\n",
      "\u001b[1m[\u001b[0m\u001b[34;49mnotice\u001b[0m\u001b[1;39;49m]\u001b[0m\u001b[39;49m To update, run: \u001b[0m\u001b[32;49mpip install --upgrade pip\u001b[0m\n",
      "Note: you may need to restart the kernel to use updated packages.\n"
     ]
    }
   ],
   "source": [
    "%pip install sympy numpy matplotlib\n",
    "# Importamos `sympy` para que nos ayude a realizar todas las operaciones \n",
    "# algebraicas\n",
    "import sympy, numpy, matplotlib"
   ]
  },
  {
   "attachments": {},
   "cell_type": "markdown",
   "metadata": {},
   "source": [
    "2.3) a) Escriba La formula de interpolaciôn de Lagrange ajustada a los puntos \\\n",
    "$i = 2, 3,$ y $4$ dados en La siguiente tabla:\n",
    "\n",
    "\\begin{vmatrix*}\n",
    "    i & x_i  & f(x_i) \\\\\n",
    "    \\hdashline\n",
    "    1 & 0    & 0.9126 \\\\\n",
    "    2 & 0.25 & 0.8109 \\\\\n",
    "    3 & 0.5  & 0.6931 \\\\\n",
    "    4 & 0.75 & 0.5596 \\\\\n",
    "    5 & 1.0  & 0.4055\n",
    "\\end{vmatrix*}\n",
    "\n",
    "b) Si La tercera derivada de La funciOn en $i = 3$ es $f\" = - 0.26$, estime el \\\n",
    "error de La interpolaciOn de Lagrange obtenido en el inciso a) en $x = 0.6$.\n",
    "\n",
    "\n"
   ]
  },
  {
   "attachments": {},
   "cell_type": "markdown",
   "metadata": {},
   "source": [
    "a) Escriba La formula de interpolaciôn de Lagrange ajustada a los puntos \\\n",
    "$i = 2, 3,$ y $4$ dados en la tabla."
   ]
  },
  {
   "cell_type": "code",
   "execution_count": 12,
   "metadata": {},
   "outputs": [
    {
     "data": {
      "text/latex": [
       "$\\displaystyle g(x) = \\frac{0.5596 \\left(- 0.25 + x\\right) \\left(- 0.5 + x\\right)}{\\left(- 0.25 + 0.75\\right) \\left(- 0.5 + 0.75\\right)} + \\frac{0.6931 \\left(- 0.25 + x\\right) \\left(- 0.75 + x\\right)}{\\left(- 0.25 + 0.5\\right) \\left(0.5 - 0.75\\right)} + \\frac{0.8109 \\left(- 0.5 + x\\right) \\left(- 0.75 + x\\right)}{\\left(0.25 - 0.5\\right) \\left(0.25 - 0.75\\right)}$"
      ],
      "text/plain": [
       "Eq(g(x), 0.5596*(-0.25 + x)*(-0.5 + x)/((-0.25 + 0.75)*(-0.5 + 0.75)) + 0.6931*(-0.25 + x)*(-0.75 + x)/((-0.25 + 0.5)*(0.5 - 0.75)) + 0.8109*(-0.5 + x)*(-0.75 + x)/((0.25 - 0.5)*(0.25 - 0.75)))"
      ]
     },
     "execution_count": 12,
     "metadata": {},
     "output_type": "execute_result"
    }
   ],
   "source": [
    "x, x2, x3, x4, f2, f3, f4 = sympy.symbols('x 0.25 0.5 0.75 0.8109 0.6931 0.5596')\n",
    "\n",
    "f = (((x - x3) * (x - x4))/((x2 - x3) * (x2 - x4)) * (f2)) + \\\n",
    "    (((x - x2) * (x - x4))/((x3 - x2) * (x3 - x4)) * (f3)) + \\\n",
    "        (((x - x2) * (x - x3))/((x4 - x2) * (x4 - x3)) * (f4))\n",
    "sympy.Eq(sympy.symbols('g(x)'), f)"
   ]
  },
  {
   "attachments": {},
   "cell_type": "markdown",
   "metadata": {},
   "source": [
    "Dejando que sympy resuelva la ecuación, nos queda:"
   ]
  },
  {
   "cell_type": "code",
   "execution_count": 11,
   "metadata": {},
   "outputs": [
    {
     "data": {
      "text/latex": [
       "$\\displaystyle g(x) = 6.4872 \\left(x - 0.75\\right) \\left(x - 0.5\\right) - 11.0896 \\left(x - 0.75\\right) \\left(x - 0.25\\right) + 4.4768 \\left(x - 0.5\\right) \\left(x - 0.25\\right)$"
      ],
      "text/plain": [
       "Eq(g(x), 6.4872*(x - 0.75)*(x - 0.5) - 11.0896*(x - 0.75)*(x - 0.25) + 4.4768*(x - 0.5)*(x - 0.25))"
      ]
     },
     "execution_count": 11,
     "metadata": {},
     "output_type": "execute_result"
    }
   ],
   "source": [
    "x = sympy.symbols('x')\n",
    "\n",
    "f = ((x - 0.5) * (x - 0.75))/((0.25 - 0.5) * (0.25 - 0.75)) * (0.8109) + \\\n",
    "    ((x - 0.25) * (x - 0.75))/((0.5 - 0.25) * (0.5 - 0.75)) * (0.6931) + \\\n",
    "        ((x - 0.25) * (x - 0.5))/((0.75 - 0.25) * (0.75 - 0.5)) * (0.5596)\n",
    "sympy.Eq(sympy.symbols('g(x)'), f)"
   ]
  },
  {
   "attachments": {},
   "cell_type": "markdown",
   "metadata": {},
   "source": [
    "b) Si La tercera derivada de La función en $i = 3$ es $f''' = - 0.26$, estime el \\\n",
    "error de la interpolación de Lagrange obtenido en el inciso a) en $x = 0.6$.\n"
   ]
  },
  {
   "cell_type": "code",
   "execution_count": 18,
   "metadata": {},
   "outputs": [
    {
     "data": {
      "text/latex": [
       "$\\displaystyle e(x) = \\frac{f'''(3) \\left(- 0.25 + x\\right) \\left(- 0.5 + x\\right) \\left(- 0.75 + x\\right)}{3!}$"
      ],
      "text/plain": [
       "Eq(e(x), f'''(3)*(-0.25 + x)*(-0.5 + x)*(-0.75 + x)/3!)"
      ]
     },
     "execution_count": 18,
     "metadata": {},
     "output_type": "execute_result"
    }
   ],
   "source": [
    "e = ((x - x2) * (x - x3) * (x - x4)) / (sympy.symbols('3!')) * (sympy.symbols(\"f'''(3)\"))\n",
    "sympy.Eq(sympy.symbols('e(x)'), e)"
   ]
  },
  {
   "cell_type": "code",
   "execution_count": 19,
   "metadata": {},
   "outputs": [
    {
     "data": {
      "text/latex": [
       "$\\displaystyle e(x) = - 0.0433333333333333 \\left(x - 0.75\\right) \\left(x - 0.5\\right) \\left(x - 0.25\\right)$"
      ],
      "text/plain": [
       "Eq(e(x), -0.0433333333333333*(x - 0.75)*(x - 0.5)*(x - 0.25))"
      ]
     },
     "execution_count": 19,
     "metadata": {},
     "output_type": "execute_result"
    }
   ],
   "source": [
    "e = ((x - 0.25) * (x - 0.5) * (x - 0.75)) / (sympy.factorial(3)) * (-0.26)\n",
    "sympy.Eq(sympy.symbols('e(x)'), e)"
   ]
  },
  {
   "attachments": {},
   "cell_type": "markdown",
   "metadata": {},
   "source": [
    "Reemplazando $x = 0.6$ resulta en:"
   ]
  },
  {
   "cell_type": "code",
   "execution_count": 22,
   "metadata": {},
   "outputs": [
    {
     "data": {
      "text/latex": [
       "$\\displaystyle e(x) = 0.0002275$"
      ],
      "text/plain": [
       "Eq(e(x), 0.0002275)"
      ]
     },
     "execution_count": 22,
     "metadata": {},
     "output_type": "execute_result"
    }
   ],
   "source": [
    "sympy.Eq(sympy.symbols('e(x)'), e).subs(x, 0.6)"
   ]
  },
  {
   "attachments": {},
   "cell_type": "markdown",
   "metadata": {},
   "source": [
    "Dejando que sympy resuelva la ecuación"
   ]
  },
  {
   "attachments": {},
   "cell_type": "markdown",
   "metadata": {},
   "source": [
    "2.11) Si se ajusta un polinomio de interpolaciOn de Lagrange a cuatro datos \\\n",
    "en x = 1, 2, 3 y 4, aparecen los siguientes polinomios ciibicos en Ia formula \\\n",
    "de interpolación:\n",
    "\n",
    "a) $\\frac{(x-2)(x-3)(x-4)}{(1-2)(1-3)(1-4)}$\n",
    "\n",
    "b) $\\frac{(x-1)(x-3)(x-4)}{(2-1)(2-3)(2-4)}$\n",
    "\n",
    "c) $\\frac{(x-1)(x-2)(x-4)}{(3-1)(3-2)(3-4)}$\n",
    "\n",
    "d) $\\frac{(x-1)(x-2)(x-3)}{(4-1)(4-2)(4-3)}$"
   ]
  },
  {
   "cell_type": "code",
   "execution_count": 23,
   "metadata": {},
   "outputs": [
    {
     "data": {
      "image/png": "[encoded data removed]",
      "text/plain": [
       "<Figure size 640x480 with 1 Axes>"
      ]
     },
     "metadata": {},
     "output_type": "display_data"
    },
    {
     "data": {
      "text/plain": [
       "<sympy.plotting.plot.Plot at 0x7f5ce7bba2b0>"
      ]
     },
     "execution_count": 23,
     "metadata": {},
     "output_type": "execute_result"
    }
   ],
   "source": [
    "x = sympy.symbols('x')\n",
    "f1 = ((x - 2) * (x - 3) * (x - 4))/((1 - 2) * (1 - 3) * (1 - 4))\n",
    "f2 = ((x - 1) * (x - 3) * (x - 4))/((2 - 3) * (2 - 1) * (2 - 4))\n",
    "f3 = ((x - 1) * (x - 2) * (x - 4))/((3 - 1) * (3 - 2) * (3 - 4))\n",
    "f4 = ((x - 1) * (x - 2) * (x - 3))/((4 - 1) * (4 - 2) * (4 - 3))\n",
    "\n",
    "sympy.plot(f1, f2, f3, f4, (x, 0.5, 4.5))"
   ]
  },
  {
   "attachments": {},
   "cell_type": "markdown",
   "metadata": {},
   "source": [
    "2.16) Deduzca el polinomio de interpolaciOn de Newton hacia adelante que pasa \\\n",
    "por los puntos $i = 2, 3, 4$ dados en Ia siguiente tabla:\n",
    "\n",
    "\\begin{vmatrix*}\n",
    "    i & x_i  & f(x_i) \\\\\n",
    "    \\hdashline\n",
    "    1 & 0    & 0.9126 \\\\\n",
    "    2 & 0.25 & 0.8109 \\\\\n",
    "    3 & 0.5  & 0.6931 \\\\\n",
    "    4 & 0.75 & 0.5596 \\\\\n",
    "    5 & 1.0  & 0.4055\n",
    "\\end{vmatrix*}\n"
   ]
  },
  {
   "cell_type": "code",
   "execution_count": null,
   "metadata": {},
   "outputs": [],
   "source": []
  }
 ],
 "metadata": {
  "kernelspec": {
   "display_name": "analisis-numerico",
   "language": "python",
   "name": "python3"
  },
  "language_info": {
   "codemirror_mode": {
    "name": "ipython",
    "version": 3
   },
   "file_extension": ".py",
   "mimetype": "text/x-python",
   "name": "python",
   "nbconvert_exporter": "python",
   "pygments_lexer": "ipython3",
   "version": "3.8.10 (default, Nov 14 2022, 12:59:47) \n[GCC 9.4.0]"
  },
  "orig_nbformat": 4,
  "vscode": {
   "interpreter": {
    "hash": "ea53a699818581d32a1b41b9a0dc94b54611238278634da366efa3d7de75a310"
   }
  }
 },
 "nbformat": 4,
 "nbformat_minor": 2
}
