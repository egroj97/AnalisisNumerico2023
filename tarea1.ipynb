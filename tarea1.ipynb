{
 "cells": [
  {
   "attachments": {},
   "cell_type": "markdown",
   "metadata": {},
   "source": [
    "1.1) Si se usan 8 bits para representar los enteros positivos y negativos en \n",
    "complemento a dos, cuál es el entero positivo más grande y el negativo más \n",
    "pequeño (en magnitud) en decimal?"
   ]
  },
  {
   "cell_type": "code",
   "execution_count": 18,
   "metadata": {},
   "outputs": [
    {
     "name": "stdout",
     "output_type": "stream",
     "text": [
      "El negativo más pequeño en magnitud posible en complemento a dos es:10000000, que termina representado en decimal como: -128\n",
      "El positivo más grande en magnitud posible en complemento a dos es:01111111, que termina representado en decimal como: 127\n"
     ]
    }
   ],
   "source": [
    "def twos_complement(val, bits):\n",
    "    \"\"\"compute the 2's complement of int value val\"\"\"\n",
    "    if (val & (1 << (bits - 1))) != 0:\n",
    "        val = val - (1 << bits)\n",
    "    return val\n",
    "min_negative = 0b10000000\n",
    "max_positive = 0b01111111\n",
    "bit_length = 8\n",
    "\n",
    "print(f'El negativo más pequeño en magnitud posible en complemento a dos es: {min_negative:>08b}, que termina representado en decimal como: {twos_complement(min_negative, bit_length)}')\n",
    "print(f'El positivo más grande en magnitud posible en complemento a dos es: {max_positive:>08b}, que termina representado en decimal como: {twos_complement(max_positive, bit_length)}')"
   ]
  },
  {
   "cell_type": "markdown",
   "metadata": {},
   "source": []
  }
 ],
 "metadata": {
  "kernelspec": {
   "display_name": "analisis-numerico",
   "language": "python",
   "name": "python3"
  },
  "language_info": {
   "codemirror_mode": {
    "name": "ipython",
    "version": 3
   },
   "file_extension": ".py",
   "mimetype": "text/x-python",
   "name": "python",
   "nbconvert_exporter": "python",
   "pygments_lexer": "ipython3",
   "version": "3.8.10"
  },
  "orig_nbformat": 4,
  "vscode": {
   "interpreter": {
    "hash": "ea53a699818581d32a1b41b9a0dc94b54611238278634da366efa3d7de75a310"
   }
  }
 },
 "nbformat": 4,
 "nbformat_minor": 2
}
