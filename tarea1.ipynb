{
  "cells": [
    {
      "cell_type": "code",
      "execution_count": 1,
      "metadata": {
        "colab": {
          "base_uri": "https://localhost:8080/"
        },
        "id": "VISLhrgVZ-Ie",
        "outputId": "4c88607f-e770-4551-fca1-958d7e00b30d"
      },
      "outputs": [
        {
          "name": "stdout",
          "output_type": "stream",
          "text": [
            "Requirement already satisfied: sympy in /home/egroj97/.virtualenvs/analisis-numerico/lib/python3.8/site-packages (1.11.1)\n",
            "Requirement already satisfied: numpy in /home/egroj97/.virtualenvs/analisis-numerico/lib/python3.8/site-packages (1.24.1)\n",
            "Requirement already satisfied: mpmath>=0.19 in /home/egroj97/.virtualenvs/analisis-numerico/lib/python3.8/site-packages (from sympy) (1.2.1)\n",
            "Note: you may need to restart the kernel to use updated packages.\n"
          ]
        }
      ],
      "source": [
        "%pip install sympy numpy\n",
        "# Importamos `sympy` para que nos ayude a realizar todas las operaciones \n",
        "# algebraicas\n",
        "import sympy, numpy\n"
      ]
    },
    {
      "cell_type": "markdown",
      "metadata": {
        "id": "_mHjztA_Z-Ig"
      },
      "source": [
        "1.1) Si se usan 8 bits para representar los enteros positivos y negativos en \\\n",
        "complemento a dos, cuál es el entero positivo más grande y el negativo más \\\n",
        "pequeño (en magnitud) en decimal?"
      ]
    },
    {
      "cell_type": "code",
      "execution_count": 2,
      "metadata": {
        "colab": {
          "base_uri": "https://localhost:8080/"
        },
        "id": "6K2uVrLuZ-Ii",
        "outputId": "809ebce5-b5c2-4913-fcc1-e4daca95fc84"
      },
      "outputs": [
        {
          "name": "stdout",
          "output_type": "stream",
          "text": [
            "El negativo más pequeño en magnitud posible en complemento a dos es: 10000000,\n",
            " que termina representado en decimal como: -128.\n",
            "El positivo más grande en magnitud posible en complemento a dos es: 01111111,\n",
            " que termina representado en decimal como: 127.\n"
          ]
        }
      ],
      "source": [
        "def twos_complement(val, bits):\n",
        "    if (val & (1 << (bits - 1))) != 0:\n",
        "        val = val - (1 << bits)\n",
        "    return val\n",
        "\n",
        "\n",
        "min_negative = 0b10000000\n",
        "max_positive = 0b01111111\n",
        "bit_length = 8\n",
        "\n",
        "print(f'El negativo más pequeño en magnitud posible en complemento a dos es: '\n",
        "      f'{min_negative:>08b},\\n que termina representado en decimal como: '\n",
        "      f'{twos_complement(min_negative, bit_length)}.')\n",
        "print(f'El positivo más grande en magnitud posible en complemento a dos es: '\n",
        "      f'{max_positive:>08b},\\n que termina representado en decimal como: '\n",
        "      f'{twos_complement(max_positive, bit_length)}.')\n"
      ]
    },
    {
      "cell_type": "markdown",
      "metadata": {
        "id": "FjuNFFiNZ-Ij"
      },
      "source": [
        "1.3) Hallar el epsilon de la máquina para una IBM PC en WATFOR-77."
      ]
    },
    {
      "cell_type": "markdown",
      "metadata": {
        "id": "p2vEmVceZ-Ik"
      },
      "source": [
        "Originalmente se planeó utilizar Python dado el entorno de entrega, pero luego \\\n",
        "se buscaron formas para utilizar Fortran.\n",
        "\n",
        "Se escribe a través de comandos bash a un archivo `.f95`"
      ]
    },
    {
      "cell_type": "code",
      "execution_count": 3,
      "metadata": {
        "colab": {
          "base_uri": "https://localhost:8080/"
        },
        "id": "zp4mawCCZ-Im",
        "outputId": "5f33e429-7f58-4ebf-9544-7cca9c799933"
      },
      "outputs": [
        {
          "name": "stdout",
          "output_type": "stream",
          "text": [
            "Overwriting get_epsilon.f95\n"
          ]
        }
      ],
      "source": [
        "%%writefile get_epsilon.f95\n",
        "\n",
        "PROGRAM get_epsilon\n",
        "    real :: E\n",
        "    E = 1.0\n",
        "    1 IF( E+1.0>1.0 ) THEN\n",
        "        E=E/2.0\n",
        "        GOTO 1\n",
        "    END IF\n",
        "    PRINT*, \"EPSILON FOUND: \", E\n",
        "END program get_epsilon"
      ]
    },
    {
      "cell_type": "markdown",
      "metadata": {
        "id": "NiqLuxzGZ-In"
      },
      "source": [
        "Compilamos con `gfortran` y ejecutamos el archivo compilado"
      ]
    },
    {
      "cell_type": "code",
      "execution_count": 4,
      "metadata": {
        "colab": {
          "base_uri": "https://localhost:8080/"
        },
        "id": "_8CMCB90Z-Io",
        "outputId": "f95436eb-09e0-47b3-a578-6103fa533743"
      },
      "outputs": [
        {
          "name": "stdout",
          "output_type": "stream",
          "text": [
            " EPSILON FOUND:    5.96046448E-08\n"
          ]
        }
      ],
      "source": [
        "%%bash\n",
        "\n",
        "gfortran -ffree-form get_epsilon.f95\n",
        "./a.out"
      ]
    },
    {
      "cell_type": "markdown",
      "metadata": {
        "id": "PpZgJZoDZ-Iq"
      },
      "source": [
        "También se calculó utilizando `python` base y `numpy`:"
      ]
    },
    {
      "cell_type": "code",
      "execution_count": 5,
      "metadata": {
        "colab": {
          "base_uri": "https://localhost:8080/"
        },
        "id": "cla_WPDzZ-Ir",
        "outputId": "add99028-e6e9-48e9-f054-f83bf61d5bd6"
      },
      "outputs": [
        {
          "name": "stdout",
          "output_type": "stream",
          "text": [
            "EPSILON with base Python: 1.1102230246251565e-16\n",
            "EPSILON with Numpy: 2.220446049250313e-16\n"
          ]
        }
      ],
      "source": [
        "def get_epsilon() -> float:\n",
        "    e = 1\n",
        "    while e+1>1:\n",
        "        e = e/2\n",
        "    return e\n",
        "\n",
        "print(f'EPSILON with base Python: {get_epsilon()}')\n",
        "print(f'EPSILON with Numpy: {numpy.finfo(float).eps}')"
      ]
    },
    {
      "cell_type": "markdown",
      "metadata": {
        "id": "W-xwHl0uZ-Is"
      },
      "source": [
        "Podemos ver que los valores varían, pero esto puede ser dado a la forma en que \\\n",
        "el compilador de fortran y el interprete de Python generan las operaciones para \\\n",
        "realizar los calculas, además de Fortran ser un lenguaje de muy poco uso y \\\n",
        "mantenimiento/desarrollo en la actualidad.\n",
        "\n",
        "La diferencia entre Numpy y Python base puede ser debido a cómo Numpy obtiene \\\n",
        "esa información, de lo que realmente no tenemos información."
      ]
    },
    {
      "cell_type": "markdown",
      "metadata": {
        "id": "3ReH9CSuZ-It",
        "notebookRunGroups": {
          "groupValue": ""
        }
      },
      "source": [
        "1.5) Evalúe `exp(x) - 1` para `x = 0.0001`, aplicando el desarrollo de Taylor \n",
        "para `exp(x)`. Use los primeros tres términos."
      ]
    },
    {
      "cell_type": "code",
      "execution_count": 6,
      "metadata": {
        "id": "W3A1RrkxZ-Iu"
      },
      "outputs": [],
      "source": [
        "sympy.init_printing()\n",
        "\n",
        "x, a = sympy.symbols('x a')\n",
        "fa = sympy.exp(a)\n",
        "d1a = sympy.diff(fa)\n",
        "d2a = sympy.diff(d1a)\n",
        "d3a = sympy.diff(d2a)\n",
        "taylor = fa + (d1a/sympy.factorial(1)*(x-a)) + (d2a/sympy.factorial(2)*(x-a)**2) + (d3a/sympy.factorial(3)*(x-a)**3)"
      ]
    },
    {
      "cell_type": "markdown",
      "metadata": {
        "id": "ng0E6IPgZ-Iv"
      },
      "source": [
        "Desarrollando la serie de taylor para los primeros 3 términos tenemos:"
      ]
    },
    {
      "cell_type": "code",
      "execution_count": 7,
      "metadata": {
        "colab": {
          "base_uri": "https://localhost:8080/",
          "height": 56
        },
        "id": "KSiwZXwqZ-Iv",
        "outputId": "0da2c588-0f4c-49b9-f641-e3bd73b80a89"
      },
      "outputs": [
        {
          "data": {
            "text/latex": [
              "$\\displaystyle e^{x} = \\frac{\\left(- a + x\\right)^{3} e^{a}}{6} + \\frac{\\left(- a + x\\right)^{2} e^{a}}{2} + \\left(- a + x\\right) e^{a} + e^{a}$"
            ],
            "text/plain": [
              "             3  a           2  a                   \n",
              " x   (-a + x) ⋅ℯ    (-a + x) ⋅ℯ              a    a\n",
              "ℯ  = ──────────── + ──────────── + (-a + x)⋅ℯ  + ℯ \n",
              "          6              2                         "
            ]
          },
          "execution_count": 7,
          "metadata": {},
          "output_type": "execute_result"
        }
      ],
      "source": [
        "sympy.Eq(sympy.exp(x), taylor)"
      ]
    },
    {
      "cell_type": "markdown",
      "metadata": {
        "id": "d7RYdc2nZ-Iw"
      },
      "source": [
        "Asumiendo que la serie de Taylor la desarrollamos alrededor de 0 para exp(x). Tenemos:"
      ]
    },
    {
      "cell_type": "code",
      "execution_count": 8,
      "metadata": {
        "colab": {
          "base_uri": "https://localhost:8080/",
          "height": 54
        },
        "id": "b91eSLX5Z-Iw",
        "outputId": "015a0783-c8e3-4e54-98e1-616bc190d784"
      },
      "outputs": [
        {
          "data": {
            "text/latex": [
              "$\\displaystyle e^{x} = \\frac{x^{3}}{6} + \\frac{x^{2}}{2} + x + 1$"
            ],
            "text/plain": [
              "      3    2        \n",
              " x   x    x         \n",
              "ℯ  = ── + ── + x + 1\n",
              "     6    2         "
            ]
          },
          "execution_count": 8,
          "metadata": {},
          "output_type": "execute_result"
        }
      ],
      "source": [
        "taylor_around_zero = taylor.subs(a,0)\n",
        "sympy.Eq(sympy.exp(x), taylor_around_zero)\n"
      ]
    },
    {
      "cell_type": "markdown",
      "metadata": {
        "id": "ZSNUyHDFZ-Iy"
      },
      "source": [
        "Evaluando `x=0.0001` nos queda:"
      ]
    },
    {
      "cell_type": "code",
      "execution_count": 9,
      "metadata": {
        "colab": {
          "base_uri": "https://localhost:8080/",
          "height": 54
        },
        "id": "-G30qvliZ-Iy",
        "outputId": "29482188-da94-49f2-9b7d-609ac9e163c6"
      },
      "outputs": [
        {
          "data": {
            "text/latex": [
              "$\\displaystyle e^{x} = \\frac{0.0001^{3}}{6} + \\frac{0.0001^{2}}{2} + 0.0001 + 1$"
            ],
            "text/plain": [
              "           3         2             \n",
              " x   0.0001    0.0001              \n",
              "ℯ  = ─────── + ─────── + 0.0001 + 1\n",
              "        6         2                "
            ]
          },
          "execution_count": 9,
          "metadata": {},
          "output_type": "execute_result"
        }
      ],
      "source": [
        "dummy_value = sympy.symbols('0.0001')\n",
        "not_solved_taylor = sympy.Eq(sympy.exp(x), taylor_around_zero.subs(x,dummy_value))\n",
        "not_solved_taylor"
      ]
    },
    {
      "cell_type": "code",
      "execution_count": 10,
      "metadata": {
        "colab": {
          "base_uri": "https://localhost:8080/",
          "height": 38
        },
        "id": "IprT35sqZ-Iy",
        "outputId": "5b78ff7e-4006-40ab-f9fa-4356ee438c89"
      },
      "outputs": [
        {
          "data": {
            "text/latex": [
              "$\\displaystyle e^{x} = 1.00010000500017$"
            ],
            "text/plain": [
              " x                   \n",
              "ℯ  = 1.00010000500017"
            ]
          },
          "execution_count": 10,
          "metadata": {},
          "output_type": "execute_result"
        }
      ],
      "source": [
        "taylor_solution = taylor_around_zero.subs(x,.0001)\n",
        "sympy.Eq(sympy.exp(x), taylor_solution)"
      ]
    },
    {
      "cell_type": "markdown",
      "metadata": {
        "id": "cUX-Blo_Z-Iy"
      },
      "source": [
        "Y evaluando directamente la función `exp(x)` con `x = 0.0001` utilizando un \\\n",
        "número de alta precisión de numpy tenemos:"
      ]
    },
    {
      "cell_type": "code",
      "execution_count": 11,
      "metadata": {
        "colab": {
          "base_uri": "https://localhost:8080/"
        },
        "id": "cOYwMKrXZ-Iz",
        "outputId": "0b8039f5-62e8-4abe-ca6d-94c9e8275251"
      },
      "outputs": [
        {
          "data": {
            "text/plain": [
              "1.0001000050001667141"
            ]
          },
          "execution_count": 11,
          "metadata": {},
          "output_type": "execute_result"
        }
      ],
      "source": [
        "high_precision_solution = numpy.float128(numpy.exp(.0001))\n",
        "high_precision_solution"
      ]
    },
    {
      "cell_type": "markdown",
      "metadata": {
        "id": "8YHfjYTyZ-Iz"
      },
      "source": [
        "Donde podemos ver una diferencia de:"
      ]
    },
    {
      "cell_type": "code",
      "execution_count": 12,
      "metadata": {
        "colab": {
          "base_uri": "https://localhost:8080/"
        },
        "id": "gxbA_eYUZ-Iz",
        "outputId": "700e0f35-dfe9-4eb9-e939-7ba5700776fa"
      },
      "outputs": [
        {
          "data": {
            "text/plain": [
              "3.3306690738754696213e-15"
            ]
          },
          "execution_count": 12,
          "metadata": {},
          "output_type": "execute_result"
        }
      ],
      "source": [
        "1.00010000500017 - high_precision_solution"
      ]
    },
    {
      "cell_type": "markdown",
      "metadata": {
        "id": "wcn1Tvi2Z-I0"
      },
      "source": [
        "Realizando la operación inicialmente propuesta `exp(x) - 1` tenemos:"
      ]
    },
    {
      "cell_type": "code",
      "execution_count": 13,
      "metadata": {
        "colab": {
          "base_uri": "https://localhost:8080/",
          "height": 38
        },
        "id": "wtLvxpHgZ-I1",
        "outputId": "a5e59c12-e921-4249-9b38-1376c1627f66"
      },
      "outputs": [
        {
          "data": {
            "text/latex": [
              "$\\displaystyle e^{x} = 0.000100005000166714$"
            ],
            "text/plain": [
              " x                       \n",
              "ℯ  = 0.000100005000166714"
            ]
          },
          "execution_count": 13,
          "metadata": {},
          "output_type": "execute_result"
        }
      ],
      "source": [
        "sympy.Eq(sympy.exp(x), taylor_solution - 1)"
      ]
    },
    {
      "cell_type": "code",
      "execution_count": 14,
      "metadata": {
        "colab": {
          "base_uri": "https://localhost:8080/"
        },
        "id": "eeoNK2DRZ-I1",
        "outputId": "155be109-8ae1-4145-d01c-641e278d5a23"
      },
      "outputs": [
        {
          "data": {
            "text/plain": [
              "0.00010000500016671409753"
            ]
          },
          "execution_count": 14,
          "metadata": {},
          "output_type": "execute_result"
        }
      ],
      "source": [
        "high_precision_solution - 1"
      ]
    },
    {
      "cell_type": "markdown",
      "metadata": {
        "id": "iK36PteAaT9Y"
      },
      "source": [
        "1.9 a) Si Ia siguiente función se escribe en un programa, ¿en cuál rango de x aparecerá un desborde o una división entre cero originados por el error de redondeo?\n",
        "\n",
        "$f(x) = \\frac{1}{1-\\tanh(x)}$\n",
        "\n",
        "Suponga que el número positivo más pequeño es $3\\times 10^{-39}$ y el epsilon de la máquinaes $1.2 \\times 10 ^{-7} $\n",
        "\n",
        "b) Reescriba la ecuación de tal forma que no se necesite restar."
      ]
    },
    {
      "cell_type": "markdown",
      "metadata": {
        "id": "FBSZGpVif7e3"
      },
      "source": [
        "a) El desborde aparecería cuando el valor de $\\tanh(x)$ se encuentre en el rango de $(1-3\\times10^{-39}) \\times \\epsilon$. Lo que vendría siendo $\\tanh(x) = 1.7\\times 10 ^{-7}$. Realizando este experimento en el computador podemos acercarnos lo más posible al valor necesario de $x$ para que $\\tanh(x)$ empezando con $x = 19$ ya que los incrementos de épsilon son muy pequeños y tardaría mucho para un entero menor que esto.\n",
        "\n",
        "Con esto podemos obtener un valor de $x$ anterior al redondeo de:"
      ]
    },
    {
      "cell_type": "code",
      "execution_count": 15,
      "metadata": {
        "colab": {
          "base_uri": "https://localhost:8080/",
          "height": 38
        },
        "id": "gR79VASKxOB7",
        "outputId": "fb8ca886-939c-4d0d-9c1e-d90334d007d4"
      },
      "outputs": [
        {
          "data": {
            "text/latex": [
              "$\\displaystyle x = 18.99999988$"
            ],
            "text/plain": [
              "x = 18.99999988"
            ]
          },
          "execution_count": 15,
          "metadata": {},
          "output_type": "execute_result"
        }
      ],
      "source": [
        "E = 1.2e-7\n",
        "minNumb = 3e-39\n",
        "i = 19\n",
        "while 1 - numpy.tanh(i) > minNumb:\n",
        "  i+=E\n",
        "\n",
        "sympy.Eq(sympy.symbols('x'), i-E)"
      ]
    },
    {
      "cell_type": "markdown",
      "metadata": {
        "id": "9ErkccTNPebn"
      },
      "source": [
        "Multiplicamos por $ϵ$ para obtener el rango de:"
      ]
    },
    {
      "cell_type": "code",
      "execution_count": 16,
      "metadata": {
        "colab": {
          "base_uri": "https://localhost:8080/",
          "height": 38
        },
        "id": "cybFLVeTPmUe",
        "outputId": "f83e486c-45cf-4fe6-9516-51e03cb37da8"
      },
      "outputs": [
        {
          "data": {
            "text/latex": [
              "$\\displaystyle range = 2.2799999856 \\cdot 10^{-6}$"
            ],
            "text/plain": [
              "range = 2.2799999856e-6"
            ]
          },
          "execution_count": 16,
          "metadata": {},
          "output_type": "execute_result"
        }
      ],
      "source": [
        "sympy.Eq(sympy.symbols('range'), (i-E)*E)"
      ]
    },
    {
      "cell_type": "markdown",
      "metadata": {
        "id": "POVLZFSgPv7l"
      },
      "source": [
        "b) Sabiendo que podemos hacer la igualdad de:"
      ]
    },
    {
      "cell_type": "code",
      "execution_count": 17,
      "metadata": {
        "colab": {
          "base_uri": "https://localhost:8080/",
          "height": 55
        },
        "id": "wD6jQ5nolG0G",
        "outputId": "49a80624-17bc-4712-dda5-eac90137847f"
      },
      "outputs": [
        {
          "data": {
            "text/latex": [
              "$\\displaystyle \\tanh{\\left(x \\right)} = \\frac{e^{x} - e^{- x}}{e^{x} + e^{- x}}$"
            ],
            "text/plain": [
              "           x    -x\n",
              "          ℯ  - ℯ  \n",
              "tanh(x) = ────────\n",
              "           x    -x\n",
              "          ℯ  + ℯ  "
            ]
          },
          "execution_count": 17,
          "metadata": {},
          "output_type": "execute_result"
        }
      ],
      "source": [
        "x = sympy.symbols('x')\n",
        "\n",
        "tanhRel = (sympy.exp(x) - sympy.exp(-x))/(sympy.exp(x) + sympy.exp(-x))\n",
        "sympy.Eq(sympy.tanh(x), tanhRel)"
      ]
    },
    {
      "cell_type": "markdown",
      "metadata": {
        "id": "YBLPjqq2l0AW"
      },
      "source": [
        "Reemplazando la ecuación original de $f(x) = \\frac{1}{1-\\tanh(x)}$ con la relación anterior obtenemos:"
      ]
    },
    {
      "cell_type": "code",
      "execution_count": 18,
      "metadata": {
        "colab": {
          "base_uri": "https://localhost:8080/",
          "height": 59
        },
        "id": "xT2ZwRtymiXv",
        "outputId": "e2267d1e-314f-4b22-b2c0-fcc2f2b231fe"
      },
      "outputs": [
        {
          "data": {
            "text/latex": [
              "$\\displaystyle f(x) = \\frac{1}{- \\frac{e^{x} - e^{- x}}{e^{x} + e^{- x}} + 1}$"
            ],
            "text/plain": [
              "             1       \n",
              "f(x) = ──────────────\n",
              "          x    -x    \n",
              "         ℯ  - ℯ      \n",
              "       - ──────── + 1\n",
              "          x    -x    \n",
              "         ℯ  + ℯ      "
            ]
          },
          "execution_count": 18,
          "metadata": {},
          "output_type": "execute_result"
        }
      ],
      "source": [
        "originalExp = 1 / (1 - sympy.tanh(x))\n",
        "\n",
        "replacedExp = originalExp.subs(sympy.tanh(x), tanhRel)\n",
        "sympy.Eq(sympy.symbols('f(x)'), replacedExp)"
      ]
    },
    {
      "cell_type": "markdown",
      "metadata": {
        "id": "YC3JiQbtnQCQ"
      },
      "source": [
        "Finalmente simplificando dicha relación nos queda:"
      ]
    },
    {
      "cell_type": "code",
      "execution_count": 19,
      "metadata": {
        "colab": {
          "base_uri": "https://localhost:8080/",
          "height": 54
        },
        "id": "zOeoma2BndK2",
        "outputId": "80419479-0bb1-410d-bfd1-2b26fda46eba"
      },
      "outputs": [
        {
          "data": {
            "text/latex": [
              "$\\displaystyle f(x) = \\frac{e^{2 x}}{2} + \\frac{1}{2}$"
            ],
            "text/plain": [
              "        2⋅x    \n",
              "       ℯ      1\n",
              "f(x) = ──── + ─\n",
              "        2     2"
            ]
          },
          "execution_count": 19,
          "metadata": {},
          "output_type": "execute_result"
        }
      ],
      "source": [
        "sympy.Eq(sympy.symbols('f(x)'), replacedExp.simplify())"
      ]
    },
    {
      "cell_type": "markdown",
      "metadata": {
        "id": "1Loc8CKInjWa"
      },
      "source": [
        "Lo cual elimina todas las restas de la ecuación."
      ]
    }
  ],
  "metadata": {
    "colab": {
      "provenance": []
    },
    "kernelspec": {
      "display_name": "analisis-numerico",
      "language": "python",
      "name": "python3"
    },
    "language_info": {
      "codemirror_mode": {
        "name": "ipython",
        "version": 3
      },
      "file_extension": ".py",
      "mimetype": "text/x-python",
      "name": "python",
      "nbconvert_exporter": "python",
      "pygments_lexer": "ipython3",
      "version": "3.8.10"
    },
    "orig_nbformat": 4,
    "vscode": {
      "interpreter": {
        "hash": "ea53a699818581d32a1b41b9a0dc94b54611238278634da366efa3d7de75a310"
      }
    }
  },
  "nbformat": 4,
  "nbformat_minor": 0
}
